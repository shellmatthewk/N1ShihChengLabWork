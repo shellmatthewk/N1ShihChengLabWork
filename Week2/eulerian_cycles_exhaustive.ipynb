{
 "cells": [
  {
   "cell_type": "code",
   "execution_count": 7,
   "metadata": {},
   "outputs": [],
   "source": [
    "import random\n",
    "\n",
    "def parse_graph(edges):\n",
    "    graph = {}\n",
    "    animal_map = {\"cat\": 1, \"hippo\": 2, \"fox\": 3, \"rabbit\": 4, \"crocodile\": 5, \"pig\": 6}\n",
    "    \n",
    "    for edge in edges:\n",
    "        nodes = edge.split(',')\n",
    "        u, v = nodes[0], nodes[1]\n",
    "        u_num = animal_map[u]\n",
    "        v_num = animal_map[v]\n",
    "        \n",
    "        if u_num not in graph:\n",
    "            graph[u_num] = []\n",
    "        if v_num not in graph:\n",
    "            graph[v_num] = []\n",
    "        \n",
    "        graph[u_num].append(v_num)\n",
    "        graph[v_num].append(u_num)\n",
    "    \n",
    "    return graph\n",
    "\n"
   ]
  },
  {
   "cell_type": "code",
   "execution_count": 8,
   "metadata": {},
   "outputs": [],
   "source": [
    "def find_eulerian_cycles(graph, num_cycles=50):\n",
    "    def is_eulerian(graph):\n",
    "        for node in graph:\n",
    "            if len(graph[node]) % 2 != 0:\n",
    "                return False\n",
    "        return True\n",
    "    def dfs_cycle(start, graph, path, cycles, unique_cycles, visited_edges):\n",
    "        current_path = path + [start]\n",
    "        if all(len(graph[node]) == 0 for node in graph):\n",
    "            if current_path[0] == current_path[-1]:\n",
    "                cycle_str = \"->\".join(map(lambda x: list(animal_map.keys())[list(animal_map.values()).index(x)], current_path))\n",
    "                if cycle_str not in unique_cycles:\n",
    "                    unique_cycles.add(cycle_str)\n",
    "                    cycles.append(current_path)\n",
    "            return\n",
    "        \n",
    "        neighbors = list(graph[start])\n",
    "        random.shuffle(neighbors)  \n",
    "        \n",
    "        for next_node in neighbors:\n",
    "            edge = tuple(sorted([start, next_node]))\n",
    "            if edge in visited_edges and visited_edges[edge] >= 2:\n",
    "                continue\n",
    "            \n",
    "            graph[start].remove(next_node)\n",
    "            graph[next_node].remove(start)\n",
    "            visited_edges[edge] = visited_edges.get(edge, 0) + 1\n",
    "            \n",
    "            dfs_cycle(next_node, graph, current_path, cycles, unique_cycles, visited_edges)\n",
    "            \n",
    "            visited_edges[edge] -= 1\n",
    "            if visited_edges[edge] == 0:\n",
    "                del visited_edges[edge]\n",
    "            \n",
    "            graph[start].append(next_node)\n",
    "            graph[next_node].append(start)\n",
    "\n",
    "    if not is_eulerian(graph):\n",
    "        return []\n",
    "\n",
    "    all_cycles = []\n",
    "    unique_cycles = set()\n",
    "\n",
    "    for _ in range(num_cycles):\n",
    "        cycles = []\n",
    "        visited_edges = {}\n",
    "        start_vertex = list(graph.keys())[0]\n",
    "        dfs_cycle(start_vertex, graph, [], cycles, unique_cycles, visited_edges)\n",
    "        if cycles:\n",
    "            all_cycles.append(cycles[0])\n",
    "    \n",
    "    return all_cycles\n"
   ]
  },
  {
   "cell_type": "code",
   "execution_count": 3,
   "metadata": {},
   "outputs": [],
   "source": [
    "def format_cycles(cycles, animal_map):\n",
    "    formatted_cycles = []\n",
    "    for cycle in cycles:\n",
    "        formatted_cycle = \"->\".join(map(lambda x: list(animal_map.keys())[list(animal_map.values()).index(x)], cycle))\n",
    "        formatted_cycles.append(formatted_cycle)\n",
    "    return formatted_cycles"
   ]
  },
  {
   "cell_type": "code",
   "execution_count": 4,
   "metadata": {},
   "outputs": [],
   "source": [
    "edges = [\n",
    "    \"cat,hippo,(cat->hippo)\", \"hippo,cat,(hippo->cat)\", \"cat,fox,(cat->fox)\", \"fox,cat,(fox->cat)\",\n",
    "    \"cat,rabbit,(cat->rabbit)\", \"rabbit,cat,(rabbit->cat)\", \"cat,crocodile,(cat->crocodile)\", \"crocodile,cat,(crocodile->cat)\",\n",
    "    \"cat,pig,(cat->pig)\", \"pig,cat,(pig->cat)\", \"hippo,fox,(hippo->fox)\", \"fox,hippo,(fox->hippo)\",\n",
    "    \"hippo,rabbit,(hippo->rabbit)\", \"rabbit,hippo,(rabbit->hippo)\", \"hippo,crocodile,(hippo->crocodile)\", \"crocodile,hippo,(crocodile->hippo)\",\n",
    "    \"hippo,pig,(hippo->pig)\", \"pig,hippo,(pig->hippo)\", \"fox,rabbit,(fox->rabbit)\", \"rabbit,fox,(rabbit->fox)\",\n",
    "    \"fox,crocodile,(fox->crocodile)\", \"crocodile,fox,(crocodile->fox)\", \"fox,pig,(fox->pig)\", \"pig,fox,(pig->fox)\",\n",
    "    \"rabbit,crocodile,(rabbit->crocodile)\", \"crocodile,rabbit,(crocodile->rabbit)\", \"rabbit,pig,(rabbit->pig)\", \"pig,rabbit,(pig->rabbit)\",\n",
    "    \"crocodile,pig,(crocodile->pig)\", \"pig,crocodile,(pig->crocodile)\"\n",
    "]\n",
    "animal_map = {\"cat\": 1, \"hippo\": 2, \"fox\": 3, \"rabbit\": 4, \"crocodile\": 5, \"pig\": 6}\n"
   ]
  },
  {
   "cell_type": "code",
   "execution_count": 10,
   "metadata": {},
   "outputs": [
    {
     "ename": "KeyboardInterrupt",
     "evalue": "",
     "output_type": "error",
     "traceback": [
      "\u001b[0;31m---------------------------------------------------------------------------\u001b[0m",
      "\u001b[0;31mKeyboardInterrupt\u001b[0m                         Traceback (most recent call last)",
      "Cell \u001b[0;32mIn[10], line 2\u001b[0m\n\u001b[1;32m      1\u001b[0m graph \u001b[38;5;241m=\u001b[39m parse_graph(edges)\n\u001b[0;32m----> 2\u001b[0m cycles \u001b[38;5;241m=\u001b[39m \u001b[43mfind_eulerian_cycles\u001b[49m\u001b[43m(\u001b[49m\u001b[43mgraph\u001b[49m\u001b[43m,\u001b[49m\u001b[43m \u001b[49m\u001b[43mnum_cycles\u001b[49m\u001b[38;5;241;43m=\u001b[39;49m\u001b[38;5;241;43m2\u001b[39;49m\u001b[43m)\u001b[49m\n\u001b[1;32m      3\u001b[0m formatted_cycles \u001b[38;5;241m=\u001b[39m format_cycles(cycles, animal_map)\n\u001b[1;32m      5\u001b[0m \u001b[38;5;28;01mfor\u001b[39;00m cycle \u001b[38;5;129;01min\u001b[39;00m formatted_cycles:\n",
      "Cell \u001b[0;32mIn[8], line 48\u001b[0m, in \u001b[0;36mfind_eulerian_cycles\u001b[0;34m(graph, num_cycles)\u001b[0m\n\u001b[1;32m     46\u001b[0m visited_edges \u001b[38;5;241m=\u001b[39m {}\n\u001b[1;32m     47\u001b[0m start_vertex \u001b[38;5;241m=\u001b[39m \u001b[38;5;28mlist\u001b[39m(graph\u001b[38;5;241m.\u001b[39mkeys())[\u001b[38;5;241m0\u001b[39m]\n\u001b[0;32m---> 48\u001b[0m \u001b[43mdfs_cycle\u001b[49m\u001b[43m(\u001b[49m\u001b[43mstart_vertex\u001b[49m\u001b[43m,\u001b[49m\u001b[43m \u001b[49m\u001b[43mgraph\u001b[49m\u001b[43m,\u001b[49m\u001b[43m \u001b[49m\u001b[43m[\u001b[49m\u001b[43m]\u001b[49m\u001b[43m,\u001b[49m\u001b[43m \u001b[49m\u001b[43mcycles\u001b[49m\u001b[43m,\u001b[49m\u001b[43m \u001b[49m\u001b[43munique_cycles\u001b[49m\u001b[43m,\u001b[49m\u001b[43m \u001b[49m\u001b[43mvisited_edges\u001b[49m\u001b[43m)\u001b[49m\n\u001b[1;32m     49\u001b[0m \u001b[38;5;28;01mif\u001b[39;00m cycles:\n\u001b[1;32m     50\u001b[0m     all_cycles\u001b[38;5;241m.\u001b[39mappend(cycles[\u001b[38;5;241m0\u001b[39m])\n",
      "Cell \u001b[0;32mIn[8], line 29\u001b[0m, in \u001b[0;36mfind_eulerian_cycles.<locals>.dfs_cycle\u001b[0;34m(start, graph, path, cycles, unique_cycles, visited_edges)\u001b[0m\n\u001b[1;32m     26\u001b[0m graph[next_node]\u001b[38;5;241m.\u001b[39mremove(start)\n\u001b[1;32m     27\u001b[0m visited_edges[edge] \u001b[38;5;241m=\u001b[39m visited_edges\u001b[38;5;241m.\u001b[39mget(edge, \u001b[38;5;241m0\u001b[39m) \u001b[38;5;241m+\u001b[39m \u001b[38;5;241m1\u001b[39m\n\u001b[0;32m---> 29\u001b[0m \u001b[43mdfs_cycle\u001b[49m\u001b[43m(\u001b[49m\u001b[43mnext_node\u001b[49m\u001b[43m,\u001b[49m\u001b[43m \u001b[49m\u001b[43mgraph\u001b[49m\u001b[43m,\u001b[49m\u001b[43m \u001b[49m\u001b[43mcurrent_path\u001b[49m\u001b[43m,\u001b[49m\u001b[43m \u001b[49m\u001b[43mcycles\u001b[49m\u001b[43m,\u001b[49m\u001b[43m \u001b[49m\u001b[43munique_cycles\u001b[49m\u001b[43m,\u001b[49m\u001b[43m \u001b[49m\u001b[43mvisited_edges\u001b[49m\u001b[43m)\u001b[49m\n\u001b[1;32m     31\u001b[0m visited_edges[edge] \u001b[38;5;241m-\u001b[39m\u001b[38;5;241m=\u001b[39m \u001b[38;5;241m1\u001b[39m\n\u001b[1;32m     32\u001b[0m \u001b[38;5;28;01mif\u001b[39;00m visited_edges[edge] \u001b[38;5;241m==\u001b[39m \u001b[38;5;241m0\u001b[39m:\n",
      "Cell \u001b[0;32mIn[8], line 29\u001b[0m, in \u001b[0;36mfind_eulerian_cycles.<locals>.dfs_cycle\u001b[0;34m(start, graph, path, cycles, unique_cycles, visited_edges)\u001b[0m\n\u001b[1;32m     26\u001b[0m graph[next_node]\u001b[38;5;241m.\u001b[39mremove(start)\n\u001b[1;32m     27\u001b[0m visited_edges[edge] \u001b[38;5;241m=\u001b[39m visited_edges\u001b[38;5;241m.\u001b[39mget(edge, \u001b[38;5;241m0\u001b[39m) \u001b[38;5;241m+\u001b[39m \u001b[38;5;241m1\u001b[39m\n\u001b[0;32m---> 29\u001b[0m \u001b[43mdfs_cycle\u001b[49m\u001b[43m(\u001b[49m\u001b[43mnext_node\u001b[49m\u001b[43m,\u001b[49m\u001b[43m \u001b[49m\u001b[43mgraph\u001b[49m\u001b[43m,\u001b[49m\u001b[43m \u001b[49m\u001b[43mcurrent_path\u001b[49m\u001b[43m,\u001b[49m\u001b[43m \u001b[49m\u001b[43mcycles\u001b[49m\u001b[43m,\u001b[49m\u001b[43m \u001b[49m\u001b[43munique_cycles\u001b[49m\u001b[43m,\u001b[49m\u001b[43m \u001b[49m\u001b[43mvisited_edges\u001b[49m\u001b[43m)\u001b[49m\n\u001b[1;32m     31\u001b[0m visited_edges[edge] \u001b[38;5;241m-\u001b[39m\u001b[38;5;241m=\u001b[39m \u001b[38;5;241m1\u001b[39m\n\u001b[1;32m     32\u001b[0m \u001b[38;5;28;01mif\u001b[39;00m visited_edges[edge] \u001b[38;5;241m==\u001b[39m \u001b[38;5;241m0\u001b[39m:\n",
      "    \u001b[0;31m[... skipping similar frames: find_eulerian_cycles.<locals>.dfs_cycle at line 29 (27 times)]\u001b[0m\n",
      "Cell \u001b[0;32mIn[8], line 29\u001b[0m, in \u001b[0;36mfind_eulerian_cycles.<locals>.dfs_cycle\u001b[0;34m(start, graph, path, cycles, unique_cycles, visited_edges)\u001b[0m\n\u001b[1;32m     26\u001b[0m graph[next_node]\u001b[38;5;241m.\u001b[39mremove(start)\n\u001b[1;32m     27\u001b[0m visited_edges[edge] \u001b[38;5;241m=\u001b[39m visited_edges\u001b[38;5;241m.\u001b[39mget(edge, \u001b[38;5;241m0\u001b[39m) \u001b[38;5;241m+\u001b[39m \u001b[38;5;241m1\u001b[39m\n\u001b[0;32m---> 29\u001b[0m \u001b[43mdfs_cycle\u001b[49m\u001b[43m(\u001b[49m\u001b[43mnext_node\u001b[49m\u001b[43m,\u001b[49m\u001b[43m \u001b[49m\u001b[43mgraph\u001b[49m\u001b[43m,\u001b[49m\u001b[43m \u001b[49m\u001b[43mcurrent_path\u001b[49m\u001b[43m,\u001b[49m\u001b[43m \u001b[49m\u001b[43mcycles\u001b[49m\u001b[43m,\u001b[49m\u001b[43m \u001b[49m\u001b[43munique_cycles\u001b[49m\u001b[43m,\u001b[49m\u001b[43m \u001b[49m\u001b[43mvisited_edges\u001b[49m\u001b[43m)\u001b[49m\n\u001b[1;32m     31\u001b[0m visited_edges[edge] \u001b[38;5;241m-\u001b[39m\u001b[38;5;241m=\u001b[39m \u001b[38;5;241m1\u001b[39m\n\u001b[1;32m     32\u001b[0m \u001b[38;5;28;01mif\u001b[39;00m visited_edges[edge] \u001b[38;5;241m==\u001b[39m \u001b[38;5;241m0\u001b[39m:\n",
      "Cell \u001b[0;32mIn[8], line 11\u001b[0m, in \u001b[0;36mfind_eulerian_cycles.<locals>.dfs_cycle\u001b[0;34m(start, graph, path, cycles, unique_cycles, visited_edges)\u001b[0m\n\u001b[1;32m      9\u001b[0m \u001b[38;5;28;01mif\u001b[39;00m \u001b[38;5;28mall\u001b[39m(\u001b[38;5;28mlen\u001b[39m(graph[node]) \u001b[38;5;241m==\u001b[39m \u001b[38;5;241m0\u001b[39m \u001b[38;5;28;01mfor\u001b[39;00m node \u001b[38;5;129;01min\u001b[39;00m graph):\n\u001b[1;32m     10\u001b[0m     \u001b[38;5;28;01mif\u001b[39;00m current_path[\u001b[38;5;241m0\u001b[39m] \u001b[38;5;241m==\u001b[39m current_path[\u001b[38;5;241m-\u001b[39m\u001b[38;5;241m1\u001b[39m]:\n\u001b[0;32m---> 11\u001b[0m         cycle_str \u001b[38;5;241m=\u001b[39m \u001b[38;5;124m\"\u001b[39m\u001b[38;5;124m->\u001b[39m\u001b[38;5;124m\"\u001b[39m\u001b[38;5;241m.\u001b[39mjoin(\u001b[38;5;28mmap\u001b[39m(\u001b[38;5;28;01mlambda\u001b[39;00m x: \u001b[38;5;28mlist\u001b[39m(animal_map\u001b[38;5;241m.\u001b[39mkeys())[\u001b[38;5;28mlist\u001b[39m(animal_map\u001b[38;5;241m.\u001b[39mvalues())\u001b[38;5;241m.\u001b[39mindex(x)], current_path))\n\u001b[1;32m     12\u001b[0m         \u001b[38;5;28;01mif\u001b[39;00m cycle_str \u001b[38;5;129;01mnot\u001b[39;00m \u001b[38;5;129;01min\u001b[39;00m unique_cycles:\n\u001b[1;32m     13\u001b[0m             unique_cycles\u001b[38;5;241m.\u001b[39madd(cycle_str)\n",
      "Cell \u001b[0;32mIn[8], line 11\u001b[0m, in \u001b[0;36mfind_eulerian_cycles.<locals>.dfs_cycle.<locals>.<lambda>\u001b[0;34m(x)\u001b[0m\n\u001b[1;32m      9\u001b[0m \u001b[38;5;28;01mif\u001b[39;00m \u001b[38;5;28mall\u001b[39m(\u001b[38;5;28mlen\u001b[39m(graph[node]) \u001b[38;5;241m==\u001b[39m \u001b[38;5;241m0\u001b[39m \u001b[38;5;28;01mfor\u001b[39;00m node \u001b[38;5;129;01min\u001b[39;00m graph):\n\u001b[1;32m     10\u001b[0m     \u001b[38;5;28;01mif\u001b[39;00m current_path[\u001b[38;5;241m0\u001b[39m] \u001b[38;5;241m==\u001b[39m current_path[\u001b[38;5;241m-\u001b[39m\u001b[38;5;241m1\u001b[39m]:\n\u001b[0;32m---> 11\u001b[0m         cycle_str \u001b[38;5;241m=\u001b[39m \u001b[38;5;124m\"\u001b[39m\u001b[38;5;124m->\u001b[39m\u001b[38;5;124m\"\u001b[39m\u001b[38;5;241m.\u001b[39mjoin(\u001b[38;5;28mmap\u001b[39m(\u001b[38;5;28;01mlambda\u001b[39;00m x: \u001b[38;5;28mlist\u001b[39m(animal_map\u001b[38;5;241m.\u001b[39mkeys())[\u001b[38;5;28mlist\u001b[39m(animal_map\u001b[38;5;241m.\u001b[39mvalues())\u001b[38;5;241m.\u001b[39mindex(x)], current_path))\n\u001b[1;32m     12\u001b[0m         \u001b[38;5;28;01mif\u001b[39;00m cycle_str \u001b[38;5;129;01mnot\u001b[39;00m \u001b[38;5;129;01min\u001b[39;00m unique_cycles:\n\u001b[1;32m     13\u001b[0m             unique_cycles\u001b[38;5;241m.\u001b[39madd(cycle_str)\n",
      "\u001b[0;31mKeyboardInterrupt\u001b[0m: "
     ]
    }
   ],
   "source": [
    "graph = parse_graph(edges)\n",
    "cycles = find_eulerian_cycles(graph, num_cycles=2)\n",
    "formatted_cycles = format_cycles(cycles, animal_map)\n",
    "\n",
    "for cycle in formatted_cycles:\n",
    "    print(cycle)"
   ]
  }
 ],
 "metadata": {
  "kernelspec": {
   "display_name": "Python 3",
   "language": "python",
   "name": "python3"
  },
  "language_info": {
   "codemirror_mode": {
    "name": "ipython",
    "version": 3
   },
   "file_extension": ".py",
   "mimetype": "text/x-python",
   "name": "python",
   "nbconvert_exporter": "python",
   "pygments_lexer": "ipython3",
   "version": "3.11.9"
  }
 },
 "nbformat": 4,
 "nbformat_minor": 2
}
