{
 "cells": [
  {
   "cell_type": "code",
   "execution_count": 1,
   "metadata": {},
   "outputs": [],
   "source": [
    "import os\n",
    "import h5py\n",
    "from scipy.io import loadmat\n",
    "import numpy as np\n",
    "import random\n",
    "import matplotlib.pyplot as plt\n",
    "import pickle\n",
    "\n"
   ]
  },
  {
   "cell_type": "code",
   "execution_count": 2,
   "metadata": {},
   "outputs": [],
   "source": [
    "# Choose which days to include\n",
    "#day_list = ['20181105', '20181102', '20181101']\n",
    "\n",
    "# Or, read in list of days from txt file\n",
    "day_list = list()\n",
    "with open(f'data/combined/days.txt', 'r') as file:\n",
    "    for line in file:\n",
    "        day_list.append(line.strip())\n",
    "\n",
    "num_sess = len(day_list)\n",
    "num_goals = 6\n",
    "tbin_size = 0.1"
   ]
  },
  {
   "cell_type": "code",
   "execution_count": 3,
   "metadata": {},
   "outputs": [
    {
     "name": "stdout",
     "output_type": "stream",
     "text": [
      "['20181105ch29c1', '20181105ch30c1', '20181105ch43c1', '20181105ch43c2', '20181105ch43c3', '20181105ch45c1', '20181102ch9c1', '20181102ch19c1', '20181102ch19c2', '20181102ch26c1', '20181102ch26c2', '20181102ch29c1', '20181102ch30c1', '20181102ch30c2', '20181102ch31c1', '20181102ch43c1', '20181102ch43c2', '20181102ch45c1', '20181102ch45c2', '20181101ch19c1', '20181101ch19c2', '20181101ch21c1', '20181101ch23c1', '20181101ch29c1', '20181101ch29c2', '20181101ch29c3', '20181101ch29c4', '20181101ch30c1', '20181101ch30c2', '20181101ch35c1', '20181101ch43c1', '20181101ch45c1', '20181031ch19c1', '20181031ch19c2', '20181031ch19c3', '20181031ch26c1', '20181031ch26c2', '20181031ch29c1', '20181031ch30c1', '20181031ch30c2', '20181031ch35c1', '20181031ch35c2', '20181031ch35c3', '20181031ch43c1', '20181031ch43c2', '20181031ch45c1', '20181031ch45c2', '20181026ch19c1', '20181026ch19c2', '20181026ch19c3', '20181026ch29c1', '20181026ch30c1', '20181026ch35c1', '20181026ch35c2', '20181026ch35c3', '20181026ch35c4', '20181026ch45c1', '20181022ch9c1', '20181022ch26c1', '20181022ch29c1', '20181022ch43c1', '20181022ch43c2', '20181022ch43c3', '20181022ch43c4', '20181022ch45c1', '20181022ch93c1', '20181017ch29c1', '20181017ch43c1', '20181017ch45c1', '20181016ch6c1', '20181016ch20c1', '20181016ch29c1', '20181016ch45c1', '20181016ch51c1', '20181015ch6c1', '20181015ch20c1', '20181015ch29c1', '20181015ch45c1', '20181011ch20c1', '20181011ch29c1', '20181011ch45c1', '20181011ch45c2', '20181011ch45c3', '20181011ch59c1', '20181010ch45c1', '20181009ch40c1', '20181009ch40c2', '20181009ch40c3', '20181009ch45c1', '20181009ch45c2', '20181009ch45c3', '20181009ch45c4', '20181008ch10c1', '20181005ch45c1', '20181005ch45c2', '20181005ch45c3', '20181005ch45c4', '20181004ch45c1', '20181004ch45c2', '20181001ch20c1', '20181001ch20c2', '20181001ch45c1', '20181001ch76c1', '20180928ch45c1', '20180928ch45c2', '20180925ch6c1', '20180925ch29c1', '20180925ch45c1', '20180925ch45c2', '20180924ch6c1', '20180924ch29c1', '20180924ch29c2', '20180924ch45c1', '20180921ch20c1', '20180921ch20c2', '20180921ch45c1', '20180920ch17c1', '20180920ch20c1', '20180920ch21c1', '20180920ch29c1', '20180920ch29c2', '20180920ch45c1', '20180920ch45c2', '20180919ch29c1', '20180919ch45c1', '20180919ch45c2', '20180918ch20c1', '20180918ch29c1', '20180918ch34c1', '20180918ch45c1', '20180917ch29c1', '20180917ch45c1', '20180917ch45c2', '20180914ch6c1', '20180914ch20c1', '20180914ch20c2', '20180914ch21c1', '20180913ch20c1', '20180913ch20c2', '20180913ch21c1', '20180913ch29c1', '20180913ch45c1', '20180912ch20c1', '20180912ch20c2', '20180912ch20c3', '20180912ch21c1', '20180912ch21c2', '20180912ch29c1', '20180910ch17c1', '20180910ch20c1', '20180910ch29c1', '20180907ch20c1', '20180907ch20c2', '20180907ch21c1', '20180907ch21c2', '20180907ch29c1', '20180907ch43c1', '20180906ch6c1', '20180906ch20c1', '20180906ch29c1', '20180906ch76c1', '20180905ch6c1', '20180905ch20c1', '20180905ch20c2', '20180905ch21c1', '20180905ch29c1', '20180904ch6c1', '20180904ch20c1', '20180904ch20c2', '20180904ch21c1', '20180904ch29c1', '20180904ch29c2', '20180904ch29c3', '20180904ch38c1', '20180903ch6c1', '20180903ch20c1', '20180903ch21c1', '20180903ch29c1', '20180903ch38c1', '20180829ch6c1', '20180829ch6c2', '20180829ch6c3', '20180829ch17c1', '20180829ch20c1', '20180829ch20c2', '20180829ch20c3', '20180829ch21c1', '20180829ch21c2', '20180829ch21c3', '20180829ch29c1', '20180829ch29c2', '20180829ch38c1', '20180829ch38c2', '20180829ch38c3', '20180829ch45c1', '20180829ch45c2', '20180829ch45c3', '20180829ch93c1', '20180828ch6c1', '20180828ch20c1', '20180828ch21c1', '20180828ch21c2', '20180828ch21c3', '20180828ch21c4', '20180828ch21c5', '20180828ch45c1', '20180828ch76c1', '20180828ch93c1', '20180827ch6c1', '20180827ch6c2', '20180827ch20c1', '20180827ch20c2', '20180827ch21c1', '20180827ch21c2', '20180827ch21c3', '20180827ch29c1', '20180827ch29c2', '20180827ch34c1', '20180827ch38c1', '20180827ch38c2', '20180827ch45c1', '20180824ch6c1', '20180824ch21c1', '20180824ch29c1', '20180824ch29c2', '20180824ch38c1', '20180824ch76c1', '20180824ch93c1', '20180823ch6c1', '20180823ch20c1', '20180823ch21c1', '20180823ch29c1', '20180823ch29c2', '20180823ch34c1', '20180823ch45c1', '20180823ch45c2', '20180817ch6c1', '20180817ch21c1', '20180817ch21c2', '20180817ch51c1', '20180817ch59c1', '20180817ch59c2', '20180817ch93c1', '20180814ch6c1', '20180814ch6c2', '20180814ch20c1', '20180814ch21c1', '20180814ch21c2', '20180814ch45c1', '20180814ch45c2', '20180813ch6c1', '20180813ch6c2', '20180813ch21c1', '20180813ch29c1', '20180813ch45c1', '20180813ch45c2', '20180813ch86c1', '20180813ch86c2', '20180813ch86c3', '20180813ch86c4', '20180810ch6c1', '20180810ch21c1', '20180810ch21c2', '20180810ch29c1', '20180810ch30c1', '20180810ch38c1', '20180810ch86c1', '20180810ch86c2', '20180807ch6c1', '20180807ch6c2', '20180807ch6c3', '20180807ch6c4', '20180807ch86c1', '20180807ch86c2', '20180807ch86c3', '20180807ch86c4', '20180803ch45c1', '20180803ch86c1', '20180803ch86c2', '20180802ch42c1', '20180802ch45c1', '20180802ch86c1', '20180802ch86c2', '20180801ch45c1', '20180801ch86c1', '20180801ch86c2', '20180731ch38c1', '20180731ch45c1', '20180731ch86c2', '20180730ch38c1', '20180730ch42c1', '20180730ch42c2', '20180730ch42c3', '20180730ch43c1', '20180730ch43c2', '20180730ch45c1', '20180730ch86c1', '20180727ch38c1', '20180727ch42c1', '20180727ch86c1', '20180726ch38c1', '20180726ch42c1', '20180726ch43c1', '20180726ch43c2', '20180726ch45c1', '20180726ch86c1', '20180726ch86c2', '20180725ch29c1', '20180725ch42c1', '20180725ch43c1', '20180725ch45c1', '20180725ch86c1', '20180724ch45c1', '20180724ch45c2', '20180724ch86c1', '20180724ch86c2', '20180719ch35c1', '20180719ch45c1', '20180719ch45c2', '20180719ch59c1', '20180719ch86c2', '20180719ch86c3', '20180718ch26c1', '20180718ch26c2', '20180718ch45c1', '20180718ch45c2', '20180718ch86c1', '20180718ch86c2', '20180717ch26c1', '20180717ch26c2', '20180717ch26c3', '20180717ch42c1', '20180717ch45c1', '20180717ch86c1', '20180717ch86c2', '20180716ch26c1', '20180716ch26c2', '20180716ch45c1', '20180712ch26c1', '20180710ch26c1', '20180710ch45c1', '20180710ch45c2', '20180710ch86c1', '20180710ch86c2', '20180706ch26c1', '20180706ch26c2', '20180706ch45c1', '20180706ch86c1', '20180706ch86c2', '20180706ch89c1', '20180705ch26c1', '20180705ch26c2', '20180705ch26c3', '20180705ch45c1', '20180705ch76c1', '20180705ch86c1', '20180705ch86c2', '20180705ch86c3', '20180702ch26c1', '20180702ch26c2', '20180702ch45c1', '20180702ch45c2', '20180702ch86c1', '20180702ch86c2']\n"
     ]
    }
   ],
   "source": [
    "good_cell_labels = list()\n",
    "with open('data/cell_list_hm.txt', 'r') as file:\n",
    "    for line in file:\n",
    "        line = line.strip().split('/')\n",
    "        good_cell_labels.append(f'{line[5]}ch{str(int(line[8][7:]))}c{str(int(line[9][4:]))}')\n",
    "print(good_cell_labels)"
   ]
  },
  {
   "cell_type": "code",
   "execution_count": 4,
   "metadata": {},
   "outputs": [],
   "source": [
    "# Save directory for data files\n",
    "prefix = \"/Volumes/Hippocampus/Data/picasso-misc/\"\n",
    "save_dir = \"data/placedist\"\n",
    "# Whether to overwrite preexisting files\n",
    "overwrite = True\n",
    "# Save Figures\n",
    "to_save = True\n",
    "figsave_dir = 'figures/population_prob_distribution'"
   ]
  },
  {
   "cell_type": "code",
   "execution_count": 5,
   "metadata": {},
   "outputs": [],
   "source": [
    "#Read placeist files\n",
    "all_place_responses = list()\n",
    "all_place_durations = list()\n",
    "all_cell_labels = list()\n",
    "\n",
    "for day in day_list:\n",
    "    with open(f'{save_dir}/{day}_data.pkl', 'rb') as file:\n",
    "        data = pickle.load(file)\n",
    "        num_sess_cells = len(data['cell_labels'])\n",
    "        all_place_responses.extend(data['place_responses_per_cell'])\n",
    "        for _ in range(num_sess_cells):\n",
    "            all_place_durations.append(data['durations_per_place'])\n",
    "        all_cell_labels.extend(data['cell_labels'])\n"
   ]
  },
  {
   "cell_type": "code",
   "execution_count": 6,
   "metadata": {},
   "outputs": [
    {
     "name": "stdout",
     "output_type": "stream",
     "text": [
      "Amount of valid cells: 276\n",
      "193\n",
      "83\n",
      "['20181105ch29c1', '20181105ch43c1', '20181105ch43c3', '20181105ch45c1', '20181102ch19c1', '20181102ch29c1', '20181102ch30c1', '20181102ch30c2', '20181102ch31c1', '20181102ch43c1', '20181102ch43c2', '20181101ch19c1', '20181101ch21c1', '20181101ch29c2', '20181101ch29c3', '20181101ch29c4', '20181101ch30c2', '20181101ch43c1', '20181031ch19c2', '20181031ch26c1', '20181031ch26c2', '20181031ch29c1', '20181031ch30c1', '20181031ch43c1', '20181031ch43c2', '20181026ch19c1', '20181026ch29c1', '20181026ch30c1', '20181026ch35c1', '20181026ch35c2', '20181026ch45c1', '20181022ch9c1', '20181022ch26c1', '20181022ch29c1', '20181022ch43c1', '20181022ch43c2', '20181022ch43c4', '20181022ch45c1', '20181022ch93c1', '20181017ch29c1', '20181017ch45c1', '20181016ch20c1', '20181016ch29c1', '20181016ch45c1', '20181015ch6c1', '20181015ch20c1', '20181015ch29c1', '20181015ch45c1', '20181011ch20c1', '20181011ch29c1', '20181011ch45c1', '20181011ch45c2', '20181011ch45c3', '20181010ch45c1', '20181009ch45c1', '20181009ch45c4', '20181005ch45c4', '20181005ch45c1', '20181005ch45c2', '20181005ch45c3', '20181004ch45c1', '20181004ch45c2', '20181001ch20c2', '20181001ch45c1', '20181001ch76c1', '20180928ch45c1', '20180928ch45c2', '20180925ch6c1', '20180925ch29c1', '20180925ch45c1', '20180925ch45c2', '20180924ch6c1', '20180924ch29c1', '20180924ch29c2', '20180924ch45c1', '20180921ch20c1', '20180921ch45c1', '20180920ch17c1', '20180920ch20c1', '20180920ch21c1', '20180920ch29c1', '20180920ch29c2', '20180920ch45c1', '20180920ch45c2', '20180919ch29c1', '20180919ch45c1', '20180919ch45c2', '20180918ch20c1', '20180918ch29c1', '20180918ch34c1', '20180918ch45c1', '20180917ch29c1', '20180917ch45c1', '20180917ch45c2', '20180914ch20c1', '20180914ch20c2', '20180914ch21c1', '20180913ch20c1', '20180913ch21c1', '20180913ch29c1', '20180913ch45c1', '20180912ch20c1', '20180912ch21c1', '20180912ch21c2', '20180912ch29c1', '20180910ch17c1', '20180910ch20c1', '20180910ch29c1', '20180907ch20c2', '20180907ch21c1', '20180907ch29c1', '20180907ch43c1', '20180906ch6c1', '20180906ch20c1', '20180906ch29c1', '20180906ch76c1', '20180905ch6c1', '20180905ch20c1', '20180905ch20c2', '20180905ch21c1', '20180905ch29c1', '20180904ch21c1', '20180904ch29c1', '20180904ch29c2', '20180904ch6c1', '20180904ch20c1', '20180904ch38c1', '20180903ch6c1', '20180903ch20c1', '20180903ch21c1', '20180903ch29c1', '20180903ch38c1', '20180829ch6c1', '20180829ch6c2', '20180829ch20c3', '20180829ch21c1', '20180829ch21c2', '20180829ch29c2', '20180829ch38c1', '20180829ch38c2', '20180829ch38c3', '20180829ch45c1', '20180829ch45c2', '20180829ch45c3', '20180829ch93c1', '20180828ch6c1', '20180828ch20c1', '20180828ch21c1', '20180828ch21c3', '20180828ch45c1', '20180828ch76c1', '20180828ch93c1', '20180827ch6c1', '20180827ch20c1', '20180827ch20c2', '20180827ch21c1', '20180827ch21c2', '20180827ch21c3', '20180827ch29c1', '20180827ch34c1', '20180827ch38c1', '20180827ch38c2', '20180827ch45c1', '20180824ch6c1', '20180824ch21c1', '20180824ch29c1', '20180824ch29c2', '20180824ch38c1', '20180823ch6c1', '20180823ch20c1', '20180823ch21c1', '20180823ch29c1', '20180823ch29c2', '20180823ch34c1', '20180823ch45c1', '20180823ch45c2', '20180817ch6c1', '20180817ch21c1', '20180817ch21c2', '20180817ch51c1', '20180817ch59c1', '20180817ch59c2', '20180814ch6c1', '20180814ch6c2', '20180814ch20c1', '20180814ch21c1', '20180814ch21c2', '20180814ch45c1', '20180814ch45c2', '20180813ch6c1', '20180813ch21c1', '20180813ch29c1', '20180813ch45c1', '20180813ch45c2', '20180813ch86c1', '20180813ch86c2', '20180813ch86c3', '20180813ch86c4', '20180810ch6c1', '20180810ch21c1', '20180810ch21c2', '20180810ch29c1', '20180810ch30c1', '20180810ch38c1', '20180810ch86c1', '20180810ch86c2', '20180807ch6c2', '20180807ch6c4', '20180807ch86c1', '20180807ch86c2', '20180807ch86c4', '20180803ch45c1', '20180803ch86c1', '20180803ch86c2', '20180802ch45c1', '20180802ch86c1', '20180802ch86c2', '20180801ch45c1', '20180801ch86c1', '20180801ch86c2', '20180731ch38c1', '20180731ch45c1', '20180731ch86c2', '20180730ch38c1', '20180730ch43c1', '20180730ch43c2', '20180730ch45c1', '20180730ch86c1', '20180727ch38c1', '20180727ch86c1', '20180726ch38c1', '20180726ch45c1', '20180726ch86c1', '20180726ch86c2', '20180725ch29c1', '20180725ch43c1', '20180725ch45c1', '20180725ch86c1', '20180724ch45c1', '20180724ch45c2', '20180724ch86c1', '20180724ch86c2', '20180719ch45c1', '20180719ch45c2', '20180719ch86c2', '20180718ch45c1', '20180718ch45c2', '20180718ch86c1', '20180718ch86c2', '20180717ch45c1', '20180717ch86c1', '20180717ch86c2', '20180716ch26c2', '20180716ch45c1', '20180710ch45c1', '20180710ch45c2', '20180710ch86c1', '20180710ch86c2', '20180706ch45c1', '20180706ch86c1', '20180706ch86c2', '20180706ch89c1', '20180705ch26c1', '20180705ch26c2', '20180705ch26c3', '20180705ch45c1', '20180705ch76c1', '20180705ch86c1', '20180705ch86c2', '20180705ch86c3', '20180702ch26c1', '20180702ch26c2', '20180702ch45c1', '20180702ch45c2', '20180702ch86c1', '20180702ch86c2']\n",
      "{'20181105ch29c1': 1, '20181105ch43c1': 2, '20181105ch43c3': 3, '20181105ch45c1': 4, '20181102ch19c1': 5, '20181102ch29c1': 6, '20181102ch30c1': 7, '20181102ch30c2': 8, '20181102ch31c1': 9, '20181102ch43c1': 10, '20181102ch43c2': 11, '20181101ch19c1': 12, '20181101ch21c1': 13, '20181101ch29c2': 14, '20181101ch29c3': 15, '20181101ch29c4': 16, '20181101ch30c2': 17, '20181101ch43c1': 18, '20181031ch19c2': 19, '20181031ch26c1': 20, '20181031ch26c2': 21, '20181031ch29c1': 22, '20181031ch30c1': 23, '20181031ch43c1': 24, '20181031ch43c2': 25, '20181026ch19c1': 26, '20181026ch29c1': 27, '20181026ch30c1': 28, '20181026ch35c1': 29, '20181026ch35c2': 30, '20181026ch45c1': 31, '20181022ch9c1': 32, '20181022ch26c1': 33, '20181022ch29c1': 34, '20181022ch43c1': 35, '20181022ch43c2': 36, '20181022ch43c4': 37, '20181022ch45c1': 38, '20181022ch93c1': 39, '20181017ch29c1': 40, '20181017ch45c1': 41, '20181016ch20c1': 42, '20181016ch29c1': 43, '20181016ch45c1': 44, '20181015ch6c1': 45, '20181015ch20c1': 46, '20181015ch29c1': 47, '20181015ch45c1': 48, '20181011ch20c1': 49, '20181011ch29c1': 50, '20181011ch45c1': 51, '20181011ch45c2': 52, '20181011ch45c3': 53, '20181010ch45c1': 54, '20181009ch45c1': 55, '20181009ch45c4': 56, '20181005ch45c4': 57, '20181005ch45c1': 58, '20181005ch45c2': 59, '20181005ch45c3': 60, '20181004ch45c1': 61, '20181004ch45c2': 62, '20181001ch20c2': 63, '20181001ch45c1': 64, '20181001ch76c1': 65, '20180928ch45c1': 66, '20180928ch45c2': 67, '20180925ch6c1': 68, '20180925ch29c1': 69, '20180925ch45c1': 70, '20180925ch45c2': 71, '20180924ch6c1': 72, '20180924ch29c1': 73, '20180924ch29c2': 74, '20180924ch45c1': 75, '20180921ch20c1': 76, '20180921ch45c1': 77, '20180920ch17c1': 78, '20180920ch20c1': 79, '20180920ch21c1': 80, '20180920ch29c1': 81, '20180920ch29c2': 82, '20180920ch45c1': 83, '20180920ch45c2': 84, '20180919ch29c1': 85, '20180919ch45c1': 86, '20180919ch45c2': 87, '20180918ch20c1': 88, '20180918ch29c1': 89, '20180918ch34c1': 90, '20180918ch45c1': 91, '20180917ch29c1': 92, '20180917ch45c1': 93, '20180917ch45c2': 94, '20180914ch20c1': 95, '20180914ch20c2': 96, '20180914ch21c1': 97, '20180913ch20c1': 98, '20180913ch21c1': 99, '20180913ch29c1': 100, '20180913ch45c1': 101, '20180912ch20c1': 102, '20180912ch21c1': 103, '20180912ch21c2': 104, '20180912ch29c1': 105, '20180910ch17c1': 106, '20180910ch20c1': 107, '20180910ch29c1': 108, '20180907ch20c2': 109, '20180907ch21c1': 110, '20180907ch29c1': 111, '20180907ch43c1': 112, '20180906ch6c1': 113, '20180906ch20c1': 114, '20180906ch29c1': 115, '20180906ch76c1': 116, '20180905ch6c1': 117, '20180905ch20c1': 118, '20180905ch20c2': 119, '20180905ch21c1': 120, '20180905ch29c1': 121, '20180904ch21c1': 122, '20180904ch29c1': 123, '20180904ch29c2': 124, '20180904ch6c1': 125, '20180904ch20c1': 126, '20180904ch38c1': 127, '20180903ch6c1': 128, '20180903ch20c1': 129, '20180903ch21c1': 130, '20180903ch29c1': 131, '20180903ch38c1': 132, '20180829ch6c1': 133, '20180829ch6c2': 134, '20180829ch20c3': 135, '20180829ch21c1': 136, '20180829ch21c2': 137, '20180829ch29c2': 138, '20180829ch38c1': 139, '20180829ch38c2': 140, '20180829ch38c3': 141, '20180829ch45c1': 142, '20180829ch45c2': 143, '20180829ch45c3': 144, '20180829ch93c1': 145, '20180828ch6c1': 146, '20180828ch20c1': 147, '20180828ch21c1': 148, '20180828ch21c3': 149, '20180828ch45c1': 150, '20180828ch76c1': 151, '20180828ch93c1': 152, '20180827ch6c1': 153, '20180827ch20c1': 154, '20180827ch20c2': 155, '20180827ch21c1': 156, '20180827ch21c2': 157, '20180827ch21c3': 158, '20180827ch29c1': 159, '20180827ch34c1': 160, '20180827ch38c1': 161, '20180827ch38c2': 162, '20180827ch45c1': 163, '20180824ch6c1': 164, '20180824ch21c1': 165, '20180824ch29c1': 166, '20180824ch29c2': 167, '20180824ch38c1': 168, '20180823ch6c1': 169, '20180823ch20c1': 170, '20180823ch21c1': 171, '20180823ch29c1': 172, '20180823ch29c2': 173, '20180823ch34c1': 174, '20180823ch45c1': 175, '20180823ch45c2': 176, '20180817ch6c1': 177, '20180817ch21c1': 178, '20180817ch21c2': 179, '20180817ch51c1': 180, '20180817ch59c1': 181, '20180817ch59c2': 182, '20180814ch6c1': 183, '20180814ch6c2': 184, '20180814ch20c1': 185, '20180814ch21c1': 186, '20180814ch21c2': 187, '20180814ch45c1': 188, '20180814ch45c2': 189, '20180813ch6c1': 190, '20180813ch21c1': 191, '20180813ch29c1': 192, '20180813ch45c1': 193, '20180813ch45c2': 194, '20180813ch86c1': 195, '20180813ch86c2': 196, '20180813ch86c3': 197, '20180813ch86c4': 198, '20180810ch6c1': 199, '20180810ch21c1': 200, '20180810ch21c2': 201, '20180810ch29c1': 202, '20180810ch30c1': 203, '20180810ch38c1': 204, '20180810ch86c1': 205, '20180810ch86c2': 206, '20180807ch6c2': 207, '20180807ch6c4': 208, '20180807ch86c1': 209, '20180807ch86c2': 210, '20180807ch86c4': 211, '20180803ch45c1': 212, '20180803ch86c1': 213, '20180803ch86c2': 214, '20180802ch45c1': 215, '20180802ch86c1': 216, '20180802ch86c2': 217, '20180801ch45c1': 218, '20180801ch86c1': 219, '20180801ch86c2': 220, '20180731ch38c1': 221, '20180731ch45c1': 222, '20180731ch86c2': 223, '20180730ch38c1': 224, '20180730ch43c1': 225, '20180730ch43c2': 226, '20180730ch45c1': 227, '20180730ch86c1': 228, '20180727ch38c1': 229, '20180727ch86c1': 230, '20180726ch38c1': 231, '20180726ch45c1': 232, '20180726ch86c1': 233, '20180726ch86c2': 234, '20180725ch29c1': 235, '20180725ch43c1': 236, '20180725ch45c1': 237, '20180725ch86c1': 238, '20180724ch45c1': 239, '20180724ch45c2': 240, '20180724ch86c1': 241, '20180724ch86c2': 242, '20180719ch45c1': 243, '20180719ch45c2': 244, '20180719ch86c2': 245, '20180718ch45c1': 246, '20180718ch45c2': 247, '20180718ch86c1': 248, '20180718ch86c2': 249, '20180717ch45c1': 250, '20180717ch86c1': 251, '20180717ch86c2': 252, '20180716ch26c2': 253, '20180716ch45c1': 254, '20180710ch45c1': 255, '20180710ch45c2': 256, '20180710ch86c1': 257, '20180710ch86c2': 258, '20180706ch45c1': 259, '20180706ch86c1': 260, '20180706ch86c2': 261, '20180706ch89c1': 262, '20180705ch26c1': 263, '20180705ch26c2': 264, '20180705ch26c3': 265, '20180705ch45c1': 266, '20180705ch76c1': 267, '20180705ch86c1': 268, '20180705ch86c2': 269, '20180705ch86c3': 270, '20180702ch26c1': 271, '20180702ch26c2': 272, '20180702ch45c1': 273, '20180702ch45c2': 274, '20180702ch86c1': 275, '20180702ch86c2': 276}\n"
     ]
    }
   ],
   "source": [
    "# Set amount of bins, see which cells are valid for testing \n",
    "total_bins = 21\n",
    "two_thirds = 20\n",
    "valid_cells_distribution = list()\n",
    "\n",
    "for day in day_list:\n",
    "    with open(f'{save_dir}/{day}_data.pkl', 'rb') as file:\n",
    "        data = pickle.load(file)\n",
    "        place_responses_per_cell = data['place_responses_per_cell']\n",
    "        cell_labels = data['cell_labels']\n",
    "    for cell, label in enumerate(cell_labels):\n",
    "        if label not in good_cell_labels:\n",
    "            continue\n",
    "        total_valid_bins = list()\n",
    "        for bin, dist in place_responses_per_cell[cell].items():\n",
    "            dist = dist[dist > 0]\n",
    "            if dist.size > 2:\n",
    "                total_valid_bins.append(bin)\n",
    "\n",
    "        if len(total_valid_bins) > two_thirds:\n",
    "            valid_cells_distribution.append(label)\n",
    "            \n",
    "print('Amount of valid cells:', len(valid_cells_distribution))\n",
    "train_size = int(round((len(valid_cells_distribution) * 0.7),0))\n",
    "test_size = int(round((len(valid_cells_distribution) * 0.3),0))\n",
    "print(train_size)\n",
    "print(test_size)\n",
    "print(valid_cells_distribution)\n",
    "list_nums = list(range(1,(len(valid_cells_distribution) + 1)))\n",
    "valid_cell_to_num = dict(zip(valid_cells_distribution, list_nums))\n",
    "\n",
    "print(valid_cell_to_num)\n",
    "new_day_list = list()\n",
    "\n",
    "for cell in valid_cells_distribution:\n",
    "    new_day = cell[:8]\n",
    "    new_day_list.append(new_day)\n"
   ]
  },
  {
   "cell_type": "code",
   "execution_count": 7,
   "metadata": {},
   "outputs": [],
   "source": [
    "bins_data = {}\n",
    "for day in day_list:\n",
    "    with open(f'{save_dir}/{day}_data.pkl', 'rb') as file:\n",
    "        data = pickle.load(file)\n",
    "        place_responses_per_cell = data['place_responses_per_cell']\n",
    "        cell_labels = data['cell_labels']\n",
    "    for cell, label in enumerate(cell_labels):\n",
    "        if label not in valid_cells_distribution:\n",
    "            continue\n",
    "        for bin, dist in place_responses_per_cell[cell].items():\n",
    "            dist = dist[dist > 0]\n",
    "            if bin not in bins_data:\n",
    "                bins_data[bin] = []\n",
    "            bins_data[bin].append(dist)\n"
   ]
  },
  {
   "cell_type": "code",
   "execution_count": 8,
   "metadata": {},
   "outputs": [],
   "source": [
    "# normalized to the sum \n",
    "for key, distributions in bins_data.items():\n",
    "    for i in range(len(distributions)):\n",
    "        distribution = distributions[i]\n",
    "        total = sum(distribution)\n",
    "        distributions[i] = [float(i) / total for i in distribution]"
   ]
  },
  {
   "cell_type": "code",
   "execution_count": 9,
   "metadata": {},
   "outputs": [],
   "source": [
    "all_place_responses = list()\n",
    "all_place_durations = list()\n",
    "all_cell_labels = list()\n",
    "\n",
    "for day in day_list:\n",
    "    with open(f'{save_dir}/{day}_data.pkl', 'rb') as file:\n",
    "        data = pickle.load(file)\n",
    "        num_sess_cells = len(data['cell_labels'])\n",
    "        for i in range(num_sess_cells):\n",
    "            cell_label = data['cell_labels'][i]\n",
    "            if cell_label in valid_cells_distribution:\n",
    "                all_place_responses.append(data['place_responses_per_cell'][i])\n",
    "                all_place_durations.append(data['durations_per_place'])\n",
    "                all_cell_labels.append(cell_label)\n",
    "\n",
    "num_all_cells = len(all_cell_labels)"
   ]
  },
  {
   "cell_type": "code",
   "execution_count": null,
   "metadata": {},
   "outputs": [],
   "source": [
    "for cell, place_responses_per_cell in enumerate(all_place_responses):\n",
    "\n",
    "    num_bins = 25\n",
    "    response_params_per_cell = np.zeros((num_bins+1, 3))\n",
    "    place_durations_per_cell = all_place_durations[cell]\n",
    "    for bin, dist in place_responses_per_cell.items():\n",
    "        total = sum(dist)\n",
    "        dist= [float(i) / total for i in dist]\n",
    "        response_params_per_cell[bin,0] = np.mean(dist)\n",
    "        response_params_per_cell[bin,1] = np.std(dist, ddof=1)\n",
    "        response_params_per_cell[bin,2] = np.sum(place_durations_per_cell[bin])\n",
    "    response_params_per_cell[:,2] = response_params_per_cell[:,2] / np.sum(response_params_per_cell[:,2])\n",
    "    all_place_responses[cell] = response_params_per_cell\n",
    "all_place_responses = np.array(all_place_responses)\n",
    "\n",
    "# Clean up large memory variables\n",
    "del all_place_durations"
   ]
  },
  {
   "cell_type": "code",
   "execution_count": null,
   "metadata": {},
   "outputs": [],
   "source": [
    "from scipy.stats import lognorm\n",
    "from scipy.stats import expon\n",
    "from collections import Counter\n",
    "\n",
    "class BayesDecoder:\n",
    "    def __init__(self, dist):\n",
    "        self.dist = dist\n",
    "        self.num_cells = dist.shape[0]\n",
    "        self.num_bins = dist.shape[1]\n",
    "        \n",
    "    def gaussian_pdf(x, mu, sig):\n",
    "        return (1 / np.sqrt(2 * np.pi * sig**2)) * np.exp(-(x - mu)**2 / (2 * sig**2))\n",
    "    \n",
    "    def __likelihood(self, x, cell, bin):\n",
    "        mu, sig = self.dist[cell,bin,0], self.dist[cell,bin,1]\n",
    "        return BayesDecoder.gaussian_pdf(x, mu, sig)\n",
    "    \n",
    "    def __predict_cell(self, x, cell):\n",
    "        posterior = np.zeros(self.num_bins)\n",
    "        for bin in range(1, self.num_bins):\n",
    "            prior = self.dist[cell,bin,2]\n",
    "            posterior[bin] = prior * self.__likelihood(x, cell, bin)\n",
    "        posterior = np.nan_to_num(posterior, nan=-np.inf, posinf=np.inf, neginf=-np.inf)\n",
    "        pred = np.argmax(posterior[1:])\n",
    "        return pred, posterior[pred] \n",
    "\n",
    "    def predict(self, x):\n",
    "        prediction, confidence = np.zeros(self.num_cells), np.zeros(self.num_cells)\n",
    "        for cell in range(self.num_cells):\n",
    "            pred, conf = self.__predict_cell(x[cell], cell)\n",
    "            prediction[cell] = pred\n",
    "            confidence[cell] = conf\n",
    "        unique_preds, counts = np.unique(prediction, return_counts=True)\n",
    "        #return lines\n",
    "        most_common_pred = unique_preds[np.argmax(counts)]\n",
    "        counts = Counter(prediction)\n",
    "        most_common = counts.most_common(5)\n",
    "        total_count = len(prediction)\n",
    "        unique_proportions = {int(unique + 1): f'{round((count / total_count) * 100, 2)}%' for unique, count in counts.items()}\n",
    "        cleaned_proportions = {k: float(v.strip('%')) for k, v in unique_proportions.items()}\n",
    "\n",
    "        top_three_bins = [num + 1 for num, _ in most_common]\n",
    "\n",
    "        return cleaned_proportions \n",
    "    "
   ]
  },
  {
   "cell_type": "code",
   "execution_count": null,
   "metadata": {},
   "outputs": [],
   "source": [
    "place_decoder = BayesDecoder(all_place_responses)\n",
    "print(len(valid_cells_distribution))"
   ]
  },
  {
   "cell_type": "code",
   "execution_count": null,
   "metadata": {},
   "outputs": [],
   "source": [
    "# Refresh averages\n",
    "from collections import defaultdict\n",
    "\n",
    "cumulative_sums = defaultdict(lambda: defaultdict(float))\n",
    "counts = defaultdict(lambda: defaultdict(int))\n",
    "\n",
    "num_runs = 0"
   ]
  },
  {
   "cell_type": "code",
   "execution_count": null,
   "metadata": {},
   "outputs": [],
   "source": [
    "def update_running_average(new_run):\n",
    "    for bin_num, percentages in new_run.items():\n",
    "        for b, percentage in percentages.items():\n",
    "            cumulative_sums[bin_num][b] += percentage\n",
    "            counts[bin_num][b] += 1"
   ]
  },
  {
   "cell_type": "code",
   "execution_count": null,
   "metadata": {},
   "outputs": [],
   "source": [
    "num_iterations = 80\n",
    "for _ in range(num_iterations):\n",
    "    random_values = {}\n",
    "    \n",
    "    for key, distributions in bins_data.items():\n",
    "        key_random_values = [random.choice(distribution) for distribution in distributions]\n",
    "        random_values[key] = key_random_values\n",
    "    \n",
    "    predictions = {}\n",
    "    for key in bins_data.keys():\n",
    "        bin_prediction_list = random_values[key]\n",
    "        predicted_bin = place_decoder.predict(bin_prediction_list)\n",
    "        sorted_percentages = dict(sorted(predicted_bin.items(), key=lambda item: item[1], reverse=True))\n",
    "        predictions[key] = sorted_percentages\n",
    "    \n",
    "    update_running_average(predictions)\n",
    "    num_runs += 1\n",
    "    print('Number of Samples:', num_runs)\n"
   ]
  },
  {
   "cell_type": "code",
   "execution_count": null,
   "metadata": {},
   "outputs": [],
   "source": [
    "averages = defaultdict(dict)\n",
    "for bin_num, sum_dict in cumulative_sums.items():\n",
    "    for b, total_sum in sum_dict.items():\n",
    "        averages[bin_num][b] = total_sum / counts[bin_num][b]\n",
    "\n",
    "print(\"Averages of percentages across all runs:\")\n",
    "for bin_num, avg_dict in sorted(averages.items()):\n",
    "    print(f\"Bin {bin_num}:\")\n",
    "    for b, avg in sorted(avg_dict.items()):\n",
    "        print(f\"  Bin {b}: {avg:.2f}%\")"
   ]
  }
 ],
 "metadata": {
  "kernelspec": {
   "display_name": "decoding",
   "language": "python",
   "name": "python3"
  },
  "language_info": {
   "codemirror_mode": {
    "name": "ipython",
    "version": 3
   },
   "file_extension": ".py",
   "mimetype": "text/x-python",
   "name": "python",
   "nbconvert_exporter": "python",
   "pygments_lexer": "ipython3",
   "version": "3.10.4"
  },
  "orig_nbformat": 4
 },
 "nbformat": 4,
 "nbformat_minor": 2
}
