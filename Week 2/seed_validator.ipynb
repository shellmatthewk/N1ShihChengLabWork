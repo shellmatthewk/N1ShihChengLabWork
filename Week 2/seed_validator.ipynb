{
 "cells": [
  {
   "cell_type": "code",
   "execution_count": 2,
   "metadata": {},
   "outputs": [],
   "source": [
    "file = open(\"raw_seeds.txt\",\"r\")"
   ]
  },
  {
   "cell_type": "code",
   "execution_count": 4,
   "metadata": {},
   "outputs": [],
   "source": [
    "def is_valid(obj, index, objects):\n",
    "    step = index + 2\n",
    "    for i in range(index + step, len(objects), step):\n",
    "        if objects[i] == obj:\n",
    "            return False\n",
    "    return True\n",
    "input_filename = \"raw_seeds.txt\"\n",
    "output_filename = \"filtered_seeds.txt\"\n",
    "with open(input_filename, \"r\") as infile, open(output_filename, \"w\") as outfile:\n",
    "    lines_written = 0\n",
    "    for line in infile:\n",
    "        objects = line.strip().split(',')\n",
    "        for i, obj in enumerate(objects):\n",
    "            if is_valid(obj, i, objects):\n",
    "                outfile.write(f\"{obj}\\n\")\n",
    "                lines_written += 1\n",
    "                if lines_written >= 65537:\n",
    "                    break\n",
    "        if lines_written >= 65537:\n",
    "            break\n",
    "\n"
   ]
  },
  {
   "cell_type": "code",
   "execution_count": null,
   "metadata": {},
   "outputs": [],
   "source": []
  }
 ],
 "metadata": {
  "kernelspec": {
   "display_name": "Python 3",
   "language": "python",
   "name": "python3"
  },
  "language_info": {
   "codemirror_mode": {
    "name": "ipython",
    "version": 3
   },
   "file_extension": ".py",
   "mimetype": "text/x-python",
   "name": "python",
   "nbconvert_exporter": "python",
   "pygments_lexer": "ipython3",
   "version": "3.11.9"
  }
 },
 "nbformat": 4,
 "nbformat_minor": 2
}
