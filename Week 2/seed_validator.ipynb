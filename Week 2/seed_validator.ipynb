{
 "cells": [
  {
   "cell_type": "code",
   "execution_count": 85,
   "metadata": {},
   "outputs": [],
   "source": [
    "from collections import Counter\n",
    "\n",
    "def check_list(line):\n",
    "    n = len(line)\n",
    "    for i in range(n-2):\n",
    "        if line[i] == line[i + 2]:\n",
    "            return False\n",
    "    return True\n",
    "\n",
    "def check_eulerian(line):\n",
    "    return line[0] == line[-1]\n",
    "\n",
    "def check_animal_counts(line):\n",
    "    first_animal = line[0]  \n",
    "    animal_counts = Counter(line)\n",
    "    \n",
    "    if animal_counts[first_animal] == 6:\n",
    "        first_animal_okay = True\n",
    "    else:\n",
    "        first_animal_okay = False\n",
    "    \n",
    "    other_animals_okay = all(count == 5 for animal, count in animal_counts.items() if animal != first_animal)\n",
    "    \n",
    "    return first_animal_okay and other_animals_okay\n",
    "\n",
    "with open('raw_seeds.txt', 'r') as file, open('valid_seeds.txt', 'w') as f:\n",
    "    for line in file:\n",
    "        \n",
    "        check1 = check_list(line)\n",
    "        check2 = check_eulerian(line)\n",
    "        check3 = check_animal_counts(line)\n",
    "        if check1 and check2 and check3:\n",
    "            f.write(f\"{line}\\n\")\n"
   ]
  }
 ],
 "metadata": {
  "kernelspec": {
   "display_name": "Python 3",
   "language": "python",
   "name": "python3"
  },
  "language_info": {
   "codemirror_mode": {
    "name": "ipython",
    "version": 3
   },
   "file_extension": ".py",
   "mimetype": "text/x-python",
   "name": "python",
   "nbconvert_exporter": "python",
   "pygments_lexer": "ipython3",
   "version": "3.11.9"
  }
 },
 "nbformat": 4,
 "nbformat_minor": 2
}
