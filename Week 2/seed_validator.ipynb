{
 "cells": [
  {
   "cell_type": "code",
   "execution_count": 2,
   "metadata": {},
   "outputs": [],
   "source": [
    "file = open(\"raw_seeds.txt\",\"r\")"
   ]
  },
  {
   "cell_type": "code",
   "execution_count": 8,
   "metadata": {},
   "outputs": [],
   "source": [
    "def has_repeats(line):\n",
    "    numbers = line.strip().split(',')\n",
    "    seen = set()\n",
    "    for number in numbers:\n",
    "        if number in seen:\n",
    "            return True\n",
    "        seen.add(number)\n",
    "    return False\n",
    "\n",
    "def filter_lines(input_file, output_file):\n",
    "    with open(input_file, 'r') as infile, open(output_file, 'w') as outfile:\n",
    "        for line in infile:\n",
    "            if not has_repeats(line):\n",
    "                outfile.write(line)\n",
    "\n",
    "input_file = \"raw_seeds.txt\"\n",
    "output_file = 'filtered_seeds.txt'\n",
    "filter_lines(input_file, output_file)"
   ]
  },
  {
   "cell_type": "code",
   "execution_count": null,
   "metadata": {},
   "outputs": [],
   "source": []
  }
 ],
 "metadata": {
  "kernelspec": {
   "display_name": "Python 3",
   "language": "python",
   "name": "python3"
  },
  "language_info": {
   "codemirror_mode": {
    "name": "ipython",
    "version": 3
   },
   "file_extension": ".py",
   "mimetype": "text/x-python",
   "name": "python",
   "nbconvert_exporter": "python",
   "pygments_lexer": "ipython3",
   "version": "3.11.9"
  }
 },
 "nbformat": 4,
 "nbformat_minor": 2
}
