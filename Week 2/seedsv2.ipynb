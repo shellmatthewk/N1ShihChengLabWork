{
 "cells": [
  {
   "cell_type": "code",
   "execution_count": 2,
   "metadata": {},
   "outputs": [
    {
     "name": "stdout",
     "output_type": "stream",
     "text": [
      "Eulerian circuits have been written to eulerian_circuits.txt\n"
     ]
    }
   ],
   "source": [
    "from collections import defaultdict, deque\n",
    "\n",
    "def eulerian_circuit(graph):\n",
    "    # Build adjacency list representation of the graph\n",
    "    adj_list = defaultdict(list)\n",
    "    for edge in graph:\n",
    "        adj_list[edge[0]].append(edge[1])\n",
    "        adj_list[edge[1]].append(edge[0])  # For undirected graph\n",
    "\n",
    "    # Find a starting vertex (assuming all vertices have even degree)\n",
    "    start_vertex = 'Cat'  # Starting from 'Cat' based on your example\n",
    "\n",
    "    # Hierholzer's algorithm to find the Eulerian circuit\n",
    "    stack = deque([start_vertex])\n",
    "    circuit = []\n",
    "\n",
    "    while stack:\n",
    "        current_vertex = stack[-1]\n",
    "        if adj_list[current_vertex]:\n",
    "            next_vertex = adj_list[current_vertex].pop()\n",
    "            adj_list[next_vertex].remove(current_vertex)  # Remove the edge\n",
    "            stack.append(next_vertex)\n",
    "        else:\n",
    "            circuit.append(stack.pop())\n",
    "    \n",
    "    # Return the Eulerian circuit\n",
    "    return circuit\n",
    "\n",
    "# Define the graph\n",
    "web = [('Cat', 'Hippo'), ('Hippo', 'Cat'), ('Cat', 'Fox'),\n",
    "       ('Fox', 'Cat'), ('Cat', 'Rabbit'), ('Rabbit', 'Cat'),\n",
    "       ('Cat', 'Crocodile'), ('Crocodile', 'Cat'), ('Cat', 'Pig'),\n",
    "       ('Pig', 'Cat'), ('Hippo', 'Fox'), ('Fox', 'Hippo'),\n",
    "       ('Hippo', 'Rabbit'), ('Rabbit', 'Hippo'), ('Hippo', 'Crocodile'),\n",
    "       ('Crocodile', 'Hippo'), ('Hippo', 'Pig'), ('Pig', 'Hippo'),\n",
    "       ('Fox', 'Rabbit'), ('Rabbit', 'Fox'), ('Fox', 'Crocodile'),\n",
    "       ('Crocodile', 'Fox'), ('Fox', 'Pig'), ('Pig', 'Fox'),\n",
    "       ('Rabbit', 'Crocodile'), ('Crocodile', 'Rabbit'), ('Rabbit', 'Pig'),\n",
    "       ('Pig', 'Rabbit'), ('Crocodile', 'Pig'), ('Pig', 'Crocodile')]\n",
    "\n",
    "# Run the Eulerian circuit algorithm 50 times and write the results to a file\n",
    "with open('eulerian_circuits.txt', 'w') as file:\n",
    "    for i in range(50):\n",
    "        eulerian_path = eulerian_circuit(web)\n",
    "        file.write(f\"Run {i + 1}: {eulerian_path}\\n\")\n",
    "\n",
    "print(\"Eulerian circuits have been written to eulerian_circuits.txt\")\n"
   ]
  }
 ],
 "metadata": {
  "kernelspec": {
   "display_name": "Python 3",
   "language": "python",
   "name": "python3"
  },
  "language_info": {
   "codemirror_mode": {
    "name": "ipython",
    "version": 3
   },
   "file_extension": ".py",
   "mimetype": "text/x-python",
   "name": "python",
   "nbconvert_exporter": "python",
   "pygments_lexer": "ipython3",
   "version": "3.11.9"
  }
 },
 "nbformat": 4,
 "nbformat_minor": 2
}
