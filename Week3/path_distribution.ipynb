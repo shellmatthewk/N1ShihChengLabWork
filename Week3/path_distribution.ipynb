{
 "cells": [
  {
   "cell_type": "code",
   "execution_count": 51,
   "metadata": {},
   "outputs": [],
   "source": [
    "import pandas as pd \n",
    "import matplotlib.pyplot as plt \n",
    "from collections import defaultdict"
   ]
  },
  {
   "cell_type": "code",
   "execution_count": 52,
   "metadata": {},
   "outputs": [],
   "source": [
    "# for cls, edit text file -> move all data to the left, add column using MOD() and QUOTIENT() in excel, then export to csv. \n",
    "data = \"301Trials.csv\"\n",
    "cls = [\"TrackingStamp\", \"TimeStamp\", \"X\", \"Y\", \"Angle\", \"PosterNumber\", \"TrialStamp\"]\n",
    "df = pd.read_csv(data, skiprows=53, names=cls)\n",
    "\n",
    "# if wanting to change/add posters, add the int value (index+1) and the poster \n",
    "path_ints = [1,2,3,4,5,6]\n",
    "\n",
    "paths = [(1,2), (1,3), (1,4), (1,5), (1,6),\n",
    "(2,1), (2,3), (2,4), (2,5), (2,6),\n",
    "(3,1), (3,2), (3,4), (3,5), (3,6),\n",
    "(4,1), (4,2), (4,3), (4,5), (4,6),\n",
    "(5,1), (5,2), (5,3), (5,4), (5,6),\n",
    "(6,1), (6,2), (6,3), (6,4), (6,5)]\n",
    "\n",
    "posters = [\n",
    "    (1, \"Cat\"), \n",
    "    (2, \"Rabbit\"), \n",
    "    (3,\"Fox\"), \n",
    "    (4, \"Hippo\"), \n",
    "    (5, \"Crocodile\"), \n",
    "    (6, \"Pig\")\n",
    "    ]\n",
    "dfs = []\n",
    "index = df.index[df['TrialStamp'] == 1].tolist() \n",
    "index = [0] + index + [len(df)]\n",
    "for i in range(len(index) - 1):\n",
    "    starting_index = index[i]\n",
    "    ending_index = index[i+1]\n",
    "    new_df = df.iloc[starting_index:ending_index]\n",
    "    dfs.append(new_df)\n",
    "if dfs:\n",
    "    dfs.pop(0)\n"
   ]
  },
  {
   "cell_type": "code",
   "execution_count": 53,
   "metadata": {},
   "outputs": [
    {
     "name": "stdout",
     "output_type": "stream",
     "text": [
      "[1, 5, 6, 1, 2, 6, 3, 2, 1, 4, 5, 2, 4, 3, 6, 5, 4, 2, 3, 4, 6, 2, 5, 3, 1, 6, 4, 1, 3, 5, 1, 4, 2, 6, 1, 3, 6, 5, 1, 2, 5, 3, 1, 5, 4, 3, 2, 4, 6, 2, 1, 6, 3, 5, 2, 3, 4, 5, 6, 4, 1, 5, 2, 4, 3, 5, 4, 2, 6, 4, 1, 3, 2, 1, 6, 3, 4, 5, 6, 2, 3, 6, 5, 1, 4, 6, 1, 2, 5, 3, 1, 4, 6, 2, 4, 1, 5, 3, 4, 5, 2, 6, 1, 2, 5, 1, 6, 4, 3, 2, 1, 3, 6, 5, 4, 2, 3, 5, 6, 3, 1, 4, 5, 1, 6, 3, 1, 2, 4, 3, 2, 5, 4, 6, 2, 3, 4, 1, 5, 2, 6, 5, 3, 6, 4, 2, 1, 3, 5, 6, 1, 5, 6, 3, 4, 2, 1, 4, 3, 5, 2, 3, 1, 6, 4, 5, 3, 6, 2, 5, 1, 3, 2, 6, 5, 4, 6, 1, 2, 4, 1, 4, 6, 1, 3, 6, 2, 4, 3, 5, 6, 3, 4, 2, 3, 1, 2, 6, 4, 5, 1, 6, 5, 2, 1, 5, 3, 2, 5, 4, 1, 2, 4, 1, 6, 2, 3, 4, 6, 3, 5, 2, 6, 5, 4, 2, 1, 3, 6, 1, 4, 3, 2, 5, 3, 1, 5, 6, 4, 5, 1, 4, 3, 5, 1, 3, 6, 5, 4, 1, 5, 2, 3, 4, 5, 3, 2, 4, 6, 2, 1, 6, 4, 2, 6, 3, 1, 2, 5, 6, 1, 5, 4, 6, 3, 5, 2, 4, 5, 6, 4, 1, 6, 2, 3, 6, 5, 1, 3, 4, 2, 5, 3, 1, 2, 6, 1, 4, 3, 2, 1]\n"
     ]
    }
   ],
   "source": [
    "all_poster_numbers = []\n",
    "\n",
    "for df_idx, df in enumerate(dfs, start=1):    \n",
    "    printed_poster_numbers = set()   \n",
    "    poster_numbers = df['PosterNumber'] \n",
    "    for index, poster_number in poster_numbers.items():\n",
    "        if poster_number != 0 and poster_number not in printed_poster_numbers:\n",
    "            all_poster_numbers.append(poster_number)\n",
    "            printed_poster_numbers.add(poster_number)\n",
    "\n",
    "print(all_poster_numbers)"
   ]
  },
  {
   "cell_type": "code",
   "execution_count": 54,
   "metadata": {},
   "outputs": [
    {
     "name": "stdout",
     "output_type": "stream",
     "text": [
      "(1, 2): 10\n",
      "(1, 3): 10\n",
      "(1, 4): 10\n",
      "(1, 5): 10\n",
      "(1, 6): 10\n",
      "(2, 1): 10\n",
      "(2, 3): 10\n",
      "(2, 4): 10\n",
      "(2, 5): 10\n",
      "(2, 6): 10\n",
      "(3, 1): 10\n",
      "(3, 2): 10\n",
      "(3, 4): 10\n",
      "(3, 5): 10\n",
      "(3, 6): 10\n",
      "(4, 1): 10\n",
      "(4, 2): 10\n",
      "(4, 3): 10\n",
      "(4, 5): 10\n",
      "(4, 6): 10\n",
      "(5, 1): 10\n",
      "(5, 2): 10\n",
      "(5, 3): 10\n",
      "(5, 4): 10\n",
      "(5, 6): 10\n",
      "(6, 1): 10\n",
      "(6, 2): 10\n",
      "(6, 3): 10\n",
      "(6, 4): 10\n",
      "(6, 5): 10\n"
     ]
    }
   ],
   "source": [
    "pair_counts = defaultdict(int)\n",
    "\n",
    "for i in range(len(all_poster_numbers) - 1):\n",
    "    pair = (all_poster_numbers[i], all_poster_numbers[i + 1])\n",
    "    if pair in paths:\n",
    "        pair_counts[pair] += 1\n",
    "\n",
    "for path in paths:\n",
    "    if path in pair_counts:\n",
    "        print(f\"{path}: {pair_counts[path]}\")\n",
    "    else:\n",
    "        print(f\"{path}: 0\")"
   ]
  },
  {
   "cell_type": "code",
   "execution_count": 55,
   "metadata": {},
   "outputs": [
    {
     "data": {
      "image/png": "[encoded data removed]",
      "text/plain": [
       "<Figure size 1000x600 with 1 Axes>"
      ]
     },
     "metadata": {},
     "output_type": "display_data"
    }
   ],
   "source": [
    "pairs = [str(path) for path in paths]\n",
    "counts = [pair_counts[path] if path in pair_counts else 0 for path in paths]\n",
    "\n",
    "plt.figure(figsize=(10, 6))\n",
    "plt.bar(pairs, counts, color='skyblue')\n",
    "plt.xlabel('Pairs')\n",
    "plt.ylabel('Count')\n",
    "plt.title('Counts of Pairs in Path List')\n",
    "plt.xticks(rotation=45)\n",
    "plt.tight_layout()\n",
    "\n",
    "plt.show()"
   ]
  }
 ],
 "metadata": {
  "kernelspec": {
   "display_name": "base",
   "language": "python",
   "name": "python3"
  },
  "language_info": {
   "codemirror_mode": {
    "name": "ipython",
    "version": 3
   },
   "file_extension": ".py",
   "mimetype": "text/x-python",
   "name": "python",
   "nbconvert_exporter": "python",
   "pygments_lexer": "ipython3",
   "version": "3.11.9"
  }
 },
 "nbformat": 4,
 "nbformat_minor": 2
}
