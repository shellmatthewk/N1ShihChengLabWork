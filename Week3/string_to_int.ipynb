{
 "cells": [
  {
   "cell_type": "code",
   "execution_count": 3,
   "metadata": {},
   "outputs": [],
   "source": [
    "animal_map = {\n",
    "    'cat': 0,\n",
    "    'hippo': 1,\n",
    "    'fox': 2,\n",
    "    'rabbit': 3,\n",
    "    'crocodile': 4,\n",
    "    'pig': 5\n",
    "}\n",
    "\n",
    "\n",
    "with open('valid_seeds.txt', 'r') as file, open('converted_seeds.txt', 'w') as f:\n",
    "    for line in file:\n",
    "        line = line.strip()  \n",
    "        animals = line.split(',')  \n",
    "        converted_line = [str(animal_map[animal]) for animal in animals if animal in animal_map]\n",
    "        \n",
    "        f.write(\",\".join(converted_line) + \"\\n\")"
   ]
  }
 ],
 "metadata": {
  "kernelspec": {
   "display_name": "Python 3",
   "language": "python",
   "name": "python3"
  },
  "language_info": {
   "codemirror_mode": {
    "name": "ipython",
    "version": 3
   },
   "file_extension": ".py",
   "mimetype": "text/x-python",
   "name": "python",
   "nbconvert_exporter": "python",
   "pygments_lexer": "ipython3",
   "version": "3.11.9"
  }
 },
 "nbformat": 4,
 "nbformat_minor": 2
}
