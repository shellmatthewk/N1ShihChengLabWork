{
 "cells": [
  {
   "cell_type": "code",
   "execution_count": 13,
   "metadata": {},
   "outputs": [],
   "source": [
    "animal_map = {\n",
    "    'cat': 0,\n",
    "    'hippo': 1,\n",
    "    'fox': 2,\n",
    "    'rabbit': 3,\n",
    "    'crocodile': 4,\n",
    "    'pig': 5\n",
    "}\n",
    "\n",
    "def convert_line(line):\n",
    "    names = line.strip().split(',')\n",
    "    converted_names = [str(animal_map.get(name, name)) for name in names]\n",
    "    converted_line = ','.join(converted_names)\n",
    "    return converted_line\n",
    "\n",
    "with open('int_seeds.txt', 'w') as output_file:\n",
    "    with open('/Users/matthewshell/Documents/N1ShihChengLabWork/Week2/valid_seeds.txt', 'r') as f:\n",
    "        for line in f:\n",
    "            converted_line = convert_line(line)\n",
    "            output_file.write(converted_line + '\\n')\n"
   ]
  }
 ],
 "metadata": {
  "kernelspec": {
   "display_name": "Python 3",
   "language": "python",
   "name": "python3"
  },
  "language_info": {
   "codemirror_mode": {
    "name": "ipython",
    "version": 3
   },
   "file_extension": ".py",
   "mimetype": "text/x-python",
   "name": "python",
   "nbconvert_exporter": "python",
   "pygments_lexer": "ipython3",
   "version": "3.11.9"
  }
 },
 "nbformat": 4,
 "nbformat_minor": 2
}
