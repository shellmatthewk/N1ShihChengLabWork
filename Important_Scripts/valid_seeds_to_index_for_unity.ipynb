{
 "cells": [
  {
   "cell_type": "code",
   "execution_count": null,
   "metadata": {},
   "outputs": [],
   "source": [
    "# Copy paste the animal_map from ~/unity_path_creator_and_analyzer.ipynb \n",
    "\n",
    "animal_map = {\n",
    "    'cat': 0,\n",
    "    'hippo': 1,\n",
    "    'fox': 2,\n",
    "    'rabbit': 3,\n",
    "    'crocodile': 4,\n",
    "    'pig': 5\n",
    "}\n",
    "\n",
    "def convert_line(line):\n",
    "    names = line.strip().split(',')\n",
    "    converted_names = [str(animal_map.get(name, name)) for name in names]\n",
    "    converted_line = ','.join(converted_names)\n",
    "    return converted_line\n",
    "\n",
    "# Change the path names \n",
    "\n",
    "with open('int_seeds.txt', 'w') as output_file:\n",
    "    with open('/Users/matthewshell/Documents/N1ShihChengLabWork/Week2/valid_seeds.txt', 'r') as f:\n",
    "        for line in f:\n",
    "            converted_line = convert_line(line)\n",
    "            output_file.write(converted_line + '\\n')\n"
   ]
  }
 ],
 "metadata": {
  "language_info": {
   "name": "python"
  }
 },
 "nbformat": 4,
 "nbformat_minor": 2
}
